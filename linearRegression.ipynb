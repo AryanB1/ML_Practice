{
 "cells": [
  {
   "cell_type": "code",
   "execution_count": 1,
   "metadata": {},
   "outputs": [
    {
     "name": "stdout",
     "output_type": "stream",
     "text": [
      "2.6.0+cpu\n"
     ]
    }
   ],
   "source": [
    "import torch\n",
    "import torch.nn as nn\n",
    "import torch.optim as optim\n",
    "print(torch.__version__)"
   ]
  },
  {
   "cell_type": "code",
   "execution_count": null,
   "metadata": {},
   "outputs": [
    {
     "name": "stdout",
     "output_type": "stream",
     "text": [
      "tensor([[ 1.9269e+02],\n",
      "        [ 1.4873e+02],\n",
      "        [ 9.0072e+01],\n",
      "        [-2.1055e+02],\n",
      "        [ 6.7842e+01],\n",
      "        [-1.2345e+02],\n",
      "        [-4.3067e+00],\n",
      "        [-1.6047e+02],\n",
      "        [-7.5214e+01],\n",
      "        [ 1.6487e+02],\n",
      "        [-3.9248e+01],\n",
      "        [-1.4036e+02],\n",
      "        [-7.2788e+01],\n",
      "        [-5.5943e+01],\n",
      "        [-7.6884e+01],\n",
      "        [ 7.6245e+01],\n",
      "        [ 1.6423e+02],\n",
      "        [-1.5960e+01],\n",
      "        [-4.9740e+01],\n",
      "        [ 4.3959e+01],\n",
      "        [-7.5813e+01],\n",
      "        [ 1.0783e+02],\n",
      "        [ 8.0080e+01],\n",
      "        [ 1.6806e+02],\n",
      "        [ 1.2791e+02],\n",
      "        [ 1.2964e+02],\n",
      "        [ 6.1047e+01],\n",
      "        [ 1.3347e+02],\n",
      "        [-2.3162e+01],\n",
      "        [ 4.1759e+00],\n",
      "        [-2.5158e+01],\n",
      "        [ 8.5986e+01],\n",
      "        [-1.3847e+02],\n",
      "        [-8.7124e+01],\n",
      "        [-2.2337e+01],\n",
      "        [ 1.7174e+02],\n",
      "        [ 3.1888e+01],\n",
      "        [-4.2452e+01],\n",
      "        [ 3.0572e+01],\n",
      "        [-7.7459e+01],\n",
      "        [-1.5576e+02],\n",
      "        [ 9.9564e+01],\n",
      "        [-8.7979e+01],\n",
      "        [-6.0114e+01],\n",
      "        [-1.2742e+02],\n",
      "        [ 2.1228e+02],\n",
      "        [-1.2347e+02],\n",
      "        [-4.8791e+01],\n",
      "        [-9.1382e+01],\n",
      "        [-6.5814e+01],\n",
      "        [ 7.8024e+00],\n",
      "        [ 5.2581e+01],\n",
      "        [-4.8799e+01],\n",
      "        [ 1.1914e+02],\n",
      "        [-8.1401e+01],\n",
      "        [-7.3599e+01],\n",
      "        [-1.4032e+02],\n",
      "        [ 3.6004e+00],\n",
      "        [-6.3477e+00],\n",
      "        [ 6.7561e+01],\n",
      "        [-9.7807e+00],\n",
      "        [ 1.8446e+02],\n",
      "        [-1.1845e+02],\n",
      "        [ 1.3835e+02],\n",
      "        [ 1.4451e+02],\n",
      "        [ 8.5641e+01],\n",
      "        [ 2.2181e+02],\n",
      "        [ 5.2317e+01],\n",
      "        [ 3.4665e+01],\n",
      "        [-1.9733e+01],\n",
      "        [-1.0546e+02],\n",
      "        [ 1.2780e+02],\n",
      "        [-1.7219e+01],\n",
      "        [ 5.2379e+01],\n",
      "        [ 5.6622e+00],\n",
      "        [ 4.2630e+01],\n",
      "        [ 5.7501e+01],\n",
      "        [-6.4172e+01],\n",
      "        [-2.2064e+02],\n",
      "        [-7.5080e+01],\n",
      "        [ 1.0868e+00],\n",
      "        [-3.3874e+01],\n",
      "        [-1.3407e+02],\n",
      "        [-5.8537e+01],\n",
      "        [ 6.4076e+01],\n",
      "        [ 5.8325e+01],\n",
      "        [ 1.0669e+02],\n",
      "        [-4.5015e+01],\n",
      "        [-6.7875e+01],\n",
      "        [ 5.7432e+01],\n",
      "        [ 1.8775e+01],\n",
      "        [-3.5762e+01],\n",
      "        [ 2.6491e+01],\n",
      "        [ 1.2732e+02],\n",
      "        [-1.3109e-01],\n",
      "        [-3.0360e+01],\n",
      "        [-9.8644e+01],\n",
      "        [ 1.2330e+01],\n",
      "        [ 3.4987e+01],\n",
      "        [ 6.1728e+01]])\n"
     ]
    }
   ],
   "source": [
    "# setting inputs + outputs (training data)\n",
    "torch.manual_seed(42)\n",
    "X = torch.randn(100, 1)\n",
    "y = 3 * X + 2 + 0.1 * torch.randn(100, 1)"
   ]
  },
  {
   "cell_type": "code",
   "execution_count": null,
   "metadata": {},
   "outputs": [],
   "source": [
    "# initialize a neural network with a single input and single output\n",
    "model = nn.Linear(1, 1)"
   ]
  },
  {
   "cell_type": "code",
   "execution_count": null,
   "metadata": {},
   "outputs": [],
   "source": [
    "# init loss function and optimizer\n",
    "loss_function = nn.MSELoss()\n",
    "optimizer = optim.SGD(model.parameters(), lr=0.01)"
   ]
  },
  {
   "cell_type": "code",
   "execution_count": null,
   "metadata": {},
   "outputs": [
    {
     "name": "stdout",
     "output_type": "stream",
     "text": [
      "Epoch 10, Loss: 5.4209\n",
      "Epoch 20, Loss: 3.5934\n",
      "Epoch 30, Loss: 2.3839\n",
      "Epoch 40, Loss: 1.5831\n",
      "Epoch 50, Loss: 1.0526\n",
      "Epoch 60, Loss: 0.7011\n",
      "Epoch 70, Loss: 0.4681\n",
      "Epoch 80, Loss: 0.3136\n",
      "Epoch 90, Loss: 0.2110\n",
      "Epoch 100, Loss: 0.1429\n",
      "Learned weight: 2.6603, Learned bias: 1.8906\n"
     ]
    }
   ],
   "source": [
    "# training loop, set at 100 epochs\n",
    "epochs = 100\n",
    "for epoch in range(1, epochs + 1):\n",
    "    y_prediction = model(X)\n",
    "    loss = loss_function(y_prediction, y)\n",
    "    optimizer.zero_grad()\n",
    "    loss.backward()\n",
    "    optimizer.step()\n",
    "    # verify learning\n",
    "    if epoch % 10 == 0:\n",
    "        print(f'Epoch {epoch}, Loss: {loss.item():.2f}')\n",
    "\n",
    "# Print learned parameters\n",
    "print(f'Learned weight: {model.weight.item():.2f}, Learned bias: {model.bias.item():.2f}')"
   ]
  }
 ],
 "metadata": {
  "kernelspec": {
   "display_name": ".venv",
   "language": "python",
   "name": "python3"
  },
  "language_info": {
   "codemirror_mode": {
    "name": "ipython",
    "version": 3
   },
   "file_extension": ".py",
   "mimetype": "text/x-python",
   "name": "python",
   "nbconvert_exporter": "python",
   "pygments_lexer": "ipython3",
   "version": "3.12.9"
  }
 },
 "nbformat": 4,
 "nbformat_minor": 2
}
