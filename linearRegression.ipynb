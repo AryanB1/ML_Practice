{
 "cells": [
  {
   "cell_type": "code",
   "execution_count": 1,
   "metadata": {},
   "outputs": [
    {
     "name": "stdout",
     "output_type": "stream",
     "text": [
      "2.6.0+cpu\n"
     ]
    }
   ],
   "source": [
    "import torch\n",
    "import torch.nn as nn\n",
    "import torch.optim as optim\n",
    "print(torch.__version__)"
   ]
  },
  {
   "cell_type": "code",
   "execution_count": 2,
   "metadata": {},
   "outputs": [],
   "source": [
    "# setting inputs + outputs (training data)\n",
    "torch.manual_seed(42)\n",
    "X = torch.randn(100, 1)\n",
    "y = 3 * X + 2 + 0.1 * torch.randn(100, 1)"
   ]
  },
  {
   "cell_type": "code",
   "execution_count": 3,
   "metadata": {},
   "outputs": [],
   "source": [
    "# initialize a neural network with a single input and single output\n",
    "model = nn.Linear(1, 1)"
   ]
  },
  {
   "cell_type": "code",
   "execution_count": 4,
   "metadata": {},
   "outputs": [],
   "source": [
    "# init loss function and optimizer\n",
    "loss_function = nn.MSELoss()\n",
    "optimizer = optim.SGD(model.parameters(), lr=0.01)"
   ]
  },
  {
   "cell_type": "code",
   "execution_count": 5,
   "metadata": {},
   "outputs": [
    {
     "name": "stdout",
     "output_type": "stream",
     "text": [
      "Epoch 10, Loss: 5.42\n",
      "Epoch 20, Loss: 3.59\n",
      "Epoch 30, Loss: 2.38\n",
      "Epoch 40, Loss: 1.58\n",
      "Epoch 50, Loss: 1.05\n",
      "Epoch 60, Loss: 0.70\n",
      "Epoch 70, Loss: 0.47\n",
      "Epoch 80, Loss: 0.31\n",
      "Epoch 90, Loss: 0.21\n",
      "Epoch 100, Loss: 0.14\n",
      "Learned weight: 2.66, Learned bias: 1.89\n"
     ]
    }
   ],
   "source": [
    "# training loop, set at 100 epochs\n",
    "epochs = 100\n",
    "for epoch in range(1, epochs + 1):\n",
    "    y_prediction = model(X)\n",
    "    loss = loss_function(y_prediction, y)\n",
    "    optimizer.zero_grad()\n",
    "    loss.backward()\n",
    "    optimizer.step()\n",
    "    # verify learning\n",
    "    if epoch % 10 == 0:\n",
    "        print(f'Epoch {epoch}, Loss: {loss.item():.2f}')\n",
    "\n",
    "# Print learned parameters\n",
    "print(f'Learned weight: {model.weight.item():.2f}, Learned bias: {model.bias.item():.2f}')"
   ]
  }
 ],
 "metadata": {
  "kernelspec": {
   "display_name": ".venv",
   "language": "python",
   "name": "python3"
  },
  "language_info": {
   "codemirror_mode": {
    "name": "ipython",
    "version": 3
   },
   "file_extension": ".py",
   "mimetype": "text/x-python",
   "name": "python",
   "nbconvert_exporter": "python",
   "pygments_lexer": "ipython3",
   "version": "3.12.9"
  }
 },
 "nbformat": 4,
 "nbformat_minor": 2
}
