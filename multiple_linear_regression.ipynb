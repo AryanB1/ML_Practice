{
 "cells": [
  {
   "cell_type": "code",
   "execution_count": 127,
   "metadata": {},
   "outputs": [
    {
     "name": "stdout",
     "output_type": "stream",
     "text": [
      "2.6.0+cpu\n"
     ]
    }
   ],
   "source": [
    "import torch\n",
    "import torch.nn as nn\n",
    "import torch.optim as optim\n",
    "from sklearn.preprocessing import StandardScaler\n",
    "print(torch.__version__)"
   ]
  },
  {
   "cell_type": "code",
   "execution_count": 128,
   "metadata": {},
   "outputs": [],
   "source": [
    "# input params: Quality, Release Year, Price -> Goal of model is to identify is the price is good\n",
    "features = torch.tensor([\n",
    "    [8, 2020],   \n",
    "    [6, 2019],   \n",
    "    [9, 2021],   \n",
    "    [7, 2022],   \n",
    "    [5, 2018],\n",
    "    [10, 2024],\n",
    "], dtype=torch.float32)\n",
    "target = torch.tensor([\n",
    "    [1000],  \n",
    "    [700],   \n",
    "    [1500],  \n",
    "    [1300],  \n",
    "    [400],\n",
    "    [2000],\n",
    "], dtype=torch.float32)\n",
    "scaler = StandardScaler()\n",
    "features = scaler.fit_transform(features)\n",
    "features = torch.tensor(features, dtype=torch.float32)"
   ]
  },
  {
   "cell_type": "code",
   "execution_count": 129,
   "metadata": {},
   "outputs": [],
   "source": [
    "model = nn.Linear(2, 1)\n",
    "nn.init.xavier_uniform_(model.weight)\n",
    "loss_function = nn.MSELoss()\n",
    "optimizer = optim.SGD(model.parameters(), lr=0.1)"
   ]
  },
  {
   "cell_type": "code",
   "execution_count": 130,
   "metadata": {},
   "outputs": [
    {
     "name": "stdout",
     "output_type": "stream",
     "text": [
      "Epoch [100/500], Loss: 3685.95\n",
      "Epoch [200/500], Loss: 3684.82\n",
      "Epoch [300/500], Loss: 3684.82\n",
      "Epoch [400/500], Loss: 3684.82\n",
      "Epoch [500/500], Loss: 3684.82\n"
     ]
    }
   ],
   "source": [
    "model.train()\n",
    "epochs = 500\n",
    "for epoch in range(1, epochs + 1):\n",
    "    predictions = model(features)\n",
    "    loss = loss_function(predictions, target)\n",
    "\n",
    "    optimizer.zero_grad()\n",
    "    loss.backward()\n",
    "    optimizer.step()\n",
    "\n",
    "    if epoch % 100 == 0:\n",
    "        print(f'Epoch [{epoch}/{epochs}], Loss: {loss.item():.2f}')\n",
    "    \n"
   ]
  },
  {
   "cell_type": "code",
   "execution_count": 131,
   "metadata": {},
   "outputs": [
    {
     "name": "stdout",
     "output_type": "stream",
     "text": [
      "Predicted price: $1109.36\n",
      "Predicted price: $683.52\n",
      "Predicted price: $1402.51\n",
      "Predicted price: $1297.63\n",
      "Predicted price: $390.36\n",
      "Predicted price: $2016.62\n"
     ]
    }
   ],
   "source": [
    "model.eval()\n",
    "with torch.no_grad():\n",
    "    predictions = model(features).squeeze()\n",
    "\n",
    "for prediction in predictions:\n",
    "    print(f'Predicted price: ${prediction:.2f}')\n"
   ]
  }
 ],
 "metadata": {
  "kernelspec": {
   "display_name": ".venv",
   "language": "python",
   "name": "python3"
  },
  "language_info": {
   "codemirror_mode": {
    "name": "ipython",
    "version": 3
   },
   "file_extension": ".py",
   "mimetype": "text/x-python",
   "name": "python",
   "nbconvert_exporter": "python",
   "pygments_lexer": "ipython3",
   "version": "3.12.9"
  }
 },
 "nbformat": 4,
 "nbformat_minor": 2
}
